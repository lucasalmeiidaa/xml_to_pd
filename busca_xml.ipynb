{
 "cells": [
  {
   "cell_type": "code",
   "execution_count": 1,
   "metadata": {},
   "outputs": [],
   "source": [
    "import xmltodict\n",
    "import pandas as pd\n",
    "from os.path import join\n",
    "from os import listdir\n",
    "import numpy as np\n",
    "# with open('bases/13190504501136000136550010009435231024529034_9e11f85798f4e4bc8e8425a2274a217b866de706.xml') as fd:\n",
    "#     doc = xmltodict.parse(fd.read())"
   ]
  },
  {
   "cell_type": "code",
   "execution_count": 2,
   "metadata": {},
   "outputs": [],
   "source": [
    "def busca_xml():\n",
    "    lst_dados = []\n",
    "    for nf in doc['nfeProc']['NFe']['infNFe']['det']:\n",
    "        lst_aux = []\n",
    "        try:\n",
    "            cod_prod = nf['prod']['cProd']\n",
    "        except:\n",
    "            cod_prod = np.nan\n",
    "        try:\n",
    "            desc_prod = nf['prod']['xProd']\n",
    "        except:\n",
    "            desc_prod = np.nan\n",
    "        try:\n",
    "            nom = nf['prod']['NCM']\n",
    "        except:\n",
    "            nom = np.nan\n",
    "        try:\n",
    "            tipo = nf['prod']['uCom']\n",
    "        except:\n",
    "            tipo = np.nan\n",
    "        try:    \n",
    "            qtd = nf['prod']['qCom']\n",
    "        except:\n",
    "            qtd = np.nan\n",
    "        try:\n",
    "            valor_unit = nf['prod']['vUnCom']\n",
    "        except:\n",
    "            valor_unit = np.nan\n",
    "        try:\n",
    "            valor_total = nf['prod']['vProd']\n",
    "        except:\n",
    "            valor_total = np.nan\n",
    "        try:\n",
    "            desc_total = nf['prod']['vDesc']\n",
    "        except:\n",
    "            desc_total = np.nan\n",
    "            \n",
    "        lst_aux.append(cod_prod)\n",
    "        lst_aux.append(desc_prod)\n",
    "        lst_aux.append(nom)\n",
    "        lst_aux.append(tipo)\n",
    "        lst_aux.append(qtd)\n",
    "        lst_aux.append(valor_unit)\n",
    "        lst_aux.append(valor_total)\n",
    "        lst_aux.append(desc_total)\n",
    "        lst_dados.append(lst_aux)\n",
    "    \n",
    "    df = pd.DataFrame(data=lst_dados, columns=['cod_produto', 'descricao_prod', \n",
    "                                     'nomenclatura', 'tipo', 'quantidade', \n",
    "                                     'valor_unit', 'valor_total',\n",
    "                                     'desc_total'])\n",
    "    \n",
    "    return df"
   ]
  },
  {
   "cell_type": "code",
   "execution_count": 3,
   "metadata": {},
   "outputs": [],
   "source": [
    "path_xml = 'bases'\n",
    "\n",
    "files_xml = []\n",
    "\n",
    "for file in listdir(path_xml):\n",
    "    files_xml.append(file)"
   ]
  },
  {
   "cell_type": "code",
   "execution_count": 5,
   "metadata": {},
   "outputs": [],
   "source": [
    "for file in files_xml:\n",
    "    # Abrindo xml\n",
    "    with open(join(path_xml, file)) as fd:\n",
    "        doc = xmltodict.parse(fd.read())\n",
    "    \n",
    "    df = busca_xml()\n",
    "    # Transformando colunas em float\n",
    "    df['desc_total'] = df['desc_total'].astype(float)\n",
    "    df['quantidade'] = df['quantidade'].astype(float)\n",
    "    df['valor_total'] = df['valor_total'].astype(float)\n",
    "    \n",
    "    # Fazendo operações de cálculo\n",
    "    df['Coluna1'] = df['desc_total'] / df['quantidade']\n",
    "    df['Coluna2'] = df['valor_total'] - df['desc_total']\n",
    "    \n",
    "    # Exportando para excel\n",
    "    df.to_excel(\"{}.xlsx\".format(file), index=False)"
   ]
  },
  {
   "cell_type": "code",
   "execution_count": null,
   "metadata": {},
   "outputs": [],
   "source": []
  }
 ],
 "metadata": {
  "kernelspec": {
   "display_name": "Python 3",
   "language": "python",
   "name": "python3"
  },
  "language_info": {
   "codemirror_mode": {
    "name": "ipython",
    "version": 3
   },
   "file_extension": ".py",
   "mimetype": "text/x-python",
   "name": "python",
   "nbconvert_exporter": "python",
   "pygments_lexer": "ipython3",
   "version": "3.7.3"
  }
 },
 "nbformat": 4,
 "nbformat_minor": 2
}
