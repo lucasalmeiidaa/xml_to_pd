{
 "cells": [
  {
   "cell_type": "code",
   "execution_count": 1,
   "metadata": {},
   "outputs": [],
   "source": [
    "import xmltodict\n",
    "import pandas as pd\n",
    "from os.path import join\n",
    "from os import listdir\n",
    "import numpy as np\n",
    "# with open('bases/13190504501136000136550010009435231024529034_9e11f85798f4e4bc8e8425a2274a217b866de706.xml') as fd:\n",
    "#     doc = xmltodict.parse(fd.read())"
   ]
  },
  {
   "cell_type": "code",
   "execution_count": 2,
   "metadata": {},
   "outputs": [],
   "source": [
    "def busca_xml():\n",
    "    lst_dados = []\n",
    "    for nf in doc['nfeProc']['NFe']['infNFe']['det']:\n",
    "        lst_aux = []\n",
    "        try:\n",
    "            cod_prod = nf['prod']['cProd']\n",
    "        except:\n",
    "            cod_prod = np.nan\n",
    "        try:\n",
    "            desc_prod = nf['prod']['xProd']\n",
    "        except:\n",
    "            desc_prod = np.nan\n",
    "        try:\n",
    "            nom = nf['prod']['NCM']\n",
    "        except:\n",
    "            nom = np.nan\n",
    "        try:\n",
    "            tipo = nf['prod']['uCom']\n",
    "        except:\n",
    "            tipo = np.nan\n",
    "        try:    \n",
    "            qtd = nf['prod']['qCom']\n",
    "        except:\n",
    "            qtd = np.nan\n",
    "        try:\n",
    "            valor_unit = nf['prod']['vUnCom']\n",
    "        except:\n",
    "            valor_unit = np.nan\n",
    "        try:\n",
    "            valor_total = nf['prod']['vProd']\n",
    "        except:\n",
    "            valor_total = np.nan\n",
    "        try:\n",
    "            desc_total = nf['prod']['vDesc']\n",
    "        except:\n",
    "            desc_total = np.nan\n",
    "            \n",
    "        lst_aux.append(cod_prod)\n",
    "        lst_aux.append(desc_prod)\n",
    "        lst_aux.append(nom)\n",
    "        lst_aux.append(tipo)\n",
    "        lst_aux.append(qtd)\n",
    "        lst_aux.append(valor_unit)\n",
    "        lst_aux.append(valor_total)\n",
    "        lst_aux.append(desc_total)\n",
    "        lst_dados.append(lst_aux)\n",
    "    \n",
    "    df = pd.DataFrame(data=lst_dados, columns=['cod_produto', 'descricao_prod', \n",
    "                                     'nomenclatura', 'tipo', 'quantidade', \n",
    "                                     'valor_unit', 'valor_total',\n",
    "                                     'desc_total'])\n",
    "    \n",
    "    return df"
   ]
  },
  {
   "cell_type": "code",
   "execution_count": 40,
   "metadata": {},
   "outputs": [],
   "source": [
    "def busca_xml_v2():\n",
    "    lst_dados = []\n",
    "    for nf in doc['nfeProc']['NFe']['infNFe']['det']:\n",
    "        lst_aux = []\n",
    "        try:\n",
    "            cod = nf['prod']['cProd']\n",
    "        except:\n",
    "            cod = np.nan\n",
    "        try:\n",
    "            desc = nf['prod']['xProd']\n",
    "        except:\n",
    "            desc = np.nan\n",
    "        try:\n",
    "            ncm = nf['prod']['NCM']\n",
    "        except:\n",
    "            ncm = np.nan\n",
    "        try:\n",
    "            embalagem = nf['prod']['uCom']\n",
    "        except:\n",
    "            embalagem = np.nan\n",
    "        try:\n",
    "            orig = nf['imposto']['ICMS']['ICMS60']['orig']\n",
    "        except:\n",
    "            orig - np.nan\n",
    "            \n",
    "        lst_aux.append(cod)\n",
    "        lst_aux.append(desc)\n",
    "        lst_aux.append(ncm)\n",
    "        lst_aux.append(embalagem)\n",
    "#         lst_aux.append(qtd)\n",
    "#         lst_aux.append(valor_unit)\n",
    "#         lst_aux.append(valor_total)\n",
    "#         lst_aux.append(desc_total)\n",
    "        lst_aux.append(orig)\n",
    "        lst_dados.append(lst_aux)\n",
    "    \n",
    "    df = pd.DataFrame(data=lst_dados, columns=['Cód.', 'Desc.', \n",
    "                                     'NCM', 'Embalagem', 'CST Orig.'])\n",
    "    \n",
    "    return df"
   ]
  },
  {
   "cell_type": "code",
   "execution_count": 41,
   "metadata": {},
   "outputs": [],
   "source": [
    "path_xml = 'bases_2'\n",
    "\n",
    "files_xml = []\n",
    "\n",
    "for file in listdir(path_xml):\n",
    "    files_xml.append(file)"
   ]
  },
  {
   "cell_type": "code",
   "execution_count": 42,
   "metadata": {},
   "outputs": [
    {
     "ename": "TypeError",
     "evalue": "unsupported operand type(s) for -: 'str' and 'float'",
     "output_type": "error",
     "traceback": [
      "\u001b[0;31m---------------------------------------------------------------------------\u001b[0m",
      "\u001b[0;31mKeyError\u001b[0m                                  Traceback (most recent call last)",
      "\u001b[0;32m<ipython-input-40-c47e865c84be>\u001b[0m in \u001b[0;36mbusca_xml_v2\u001b[0;34m()\u001b[0m\n\u001b[1;32m     21\u001b[0m         \u001b[0;32mtry\u001b[0m\u001b[0;34m:\u001b[0m\u001b[0;34m\u001b[0m\u001b[0;34m\u001b[0m\u001b[0m\n\u001b[0;32m---> 22\u001b[0;31m             \u001b[0morig\u001b[0m \u001b[0;34m=\u001b[0m \u001b[0mnf\u001b[0m\u001b[0;34m[\u001b[0m\u001b[0;34m'imposto'\u001b[0m\u001b[0;34m]\u001b[0m\u001b[0;34m[\u001b[0m\u001b[0;34m'ICMS'\u001b[0m\u001b[0;34m]\u001b[0m\u001b[0;34m[\u001b[0m\u001b[0;34m'ICMS60'\u001b[0m\u001b[0;34m]\u001b[0m\u001b[0;34m[\u001b[0m\u001b[0;34m'orig'\u001b[0m\u001b[0;34m]\u001b[0m\u001b[0;34m\u001b[0m\u001b[0;34m\u001b[0m\u001b[0m\n\u001b[0m\u001b[1;32m     23\u001b[0m         \u001b[0;32mexcept\u001b[0m\u001b[0;34m:\u001b[0m\u001b[0;34m\u001b[0m\u001b[0;34m\u001b[0m\u001b[0m\n",
      "\u001b[0;31mKeyError\u001b[0m: 'ICMS60'",
      "\nDuring handling of the above exception, another exception occurred:\n",
      "\u001b[0;31mTypeError\u001b[0m                                 Traceback (most recent call last)",
      "\u001b[0;32m<ipython-input-42-bb91501904de>\u001b[0m in \u001b[0;36m<module>\u001b[0;34m\u001b[0m\n\u001b[1;32m      4\u001b[0m         \u001b[0mdoc\u001b[0m \u001b[0;34m=\u001b[0m \u001b[0mxmltodict\u001b[0m\u001b[0;34m.\u001b[0m\u001b[0mparse\u001b[0m\u001b[0;34m(\u001b[0m\u001b[0mfd\u001b[0m\u001b[0;34m.\u001b[0m\u001b[0mread\u001b[0m\u001b[0;34m(\u001b[0m\u001b[0;34m)\u001b[0m\u001b[0;34m)\u001b[0m\u001b[0;34m\u001b[0m\u001b[0;34m\u001b[0m\u001b[0m\n\u001b[1;32m      5\u001b[0m \u001b[0;34m\u001b[0m\u001b[0m\n\u001b[0;32m----> 6\u001b[0;31m     \u001b[0mdf\u001b[0m \u001b[0;34m=\u001b[0m \u001b[0mbusca_xml_v2\u001b[0m\u001b[0;34m(\u001b[0m\u001b[0;34m)\u001b[0m\u001b[0;34m\u001b[0m\u001b[0;34m\u001b[0m\u001b[0m\n\u001b[0m\u001b[1;32m      7\u001b[0m     \u001b[0;31m# Transformando colunas em float\u001b[0m\u001b[0;34m\u001b[0m\u001b[0;34m\u001b[0m\u001b[0;34m\u001b[0m\u001b[0m\n\u001b[1;32m      8\u001b[0m \u001b[0;31m#     df['desc_total'] = df['desc_total'].astype(float)\u001b[0m\u001b[0;34m\u001b[0m\u001b[0;34m\u001b[0m\u001b[0;34m\u001b[0m\u001b[0m\n",
      "\u001b[0;32m<ipython-input-40-c47e865c84be>\u001b[0m in \u001b[0;36mbusca_xml_v2\u001b[0;34m()\u001b[0m\n\u001b[1;32m     22\u001b[0m             \u001b[0morig\u001b[0m \u001b[0;34m=\u001b[0m \u001b[0mnf\u001b[0m\u001b[0;34m[\u001b[0m\u001b[0;34m'imposto'\u001b[0m\u001b[0;34m]\u001b[0m\u001b[0;34m[\u001b[0m\u001b[0;34m'ICMS'\u001b[0m\u001b[0;34m]\u001b[0m\u001b[0;34m[\u001b[0m\u001b[0;34m'ICMS60'\u001b[0m\u001b[0;34m]\u001b[0m\u001b[0;34m[\u001b[0m\u001b[0;34m'orig'\u001b[0m\u001b[0;34m]\u001b[0m\u001b[0;34m\u001b[0m\u001b[0;34m\u001b[0m\u001b[0m\n\u001b[1;32m     23\u001b[0m         \u001b[0;32mexcept\u001b[0m\u001b[0;34m:\u001b[0m\u001b[0;34m\u001b[0m\u001b[0;34m\u001b[0m\u001b[0m\n\u001b[0;32m---> 24\u001b[0;31m             \u001b[0morig\u001b[0m \u001b[0;34m-\u001b[0m \u001b[0mnp\u001b[0m\u001b[0;34m.\u001b[0m\u001b[0mnan\u001b[0m\u001b[0;34m\u001b[0m\u001b[0;34m\u001b[0m\u001b[0m\n\u001b[0m\u001b[1;32m     25\u001b[0m \u001b[0;34m\u001b[0m\u001b[0m\n\u001b[1;32m     26\u001b[0m         \u001b[0mlst_aux\u001b[0m\u001b[0;34m.\u001b[0m\u001b[0mappend\u001b[0m\u001b[0;34m(\u001b[0m\u001b[0mcod\u001b[0m\u001b[0;34m)\u001b[0m\u001b[0;34m\u001b[0m\u001b[0;34m\u001b[0m\u001b[0m\n",
      "\u001b[0;31mTypeError\u001b[0m: unsupported operand type(s) for -: 'str' and 'float'"
     ]
    }
   ],
   "source": [
    "for file in files_xml:\n",
    "    # Abrindo xml\n",
    "    with open(join(path_xml, file)) as fd:\n",
    "        doc = xmltodict.parse(fd.read())\n",
    "    \n",
    "    df = busca_xml_v2()\n",
    "    # Transformando colunas em float\n",
    "#     df['desc_total'] = df['desc_total'].astype(float)\n",
    "#     df['quantidade'] = df['quantidade'].astype(float)\n",
    "#     df['valor_total'] = df['valor_total'].astype(float)\n",
    "    \n",
    "#     # Fazendo operações de cálculo\n",
    "#     df['Coluna1'] = df['desc_total'] / df['quantidade']\n",
    "#     df['Coluna2'] = df['valor_total'] - df['desc_total']\n",
    "    \n",
    "    # Exportando para excel\n",
    "    df.to_excel(\"{}.xlsx\".format(file), index=False)"
   ]
  },
  {
   "cell_type": "code",
   "execution_count": 38,
   "metadata": {},
   "outputs": [
    {
     "data": {
      "text/plain": [
       "OrderedDict([('@nItem', '2'),\n",
       "             ('prod',\n",
       "              OrderedDict([('cProd', '31624'),\n",
       "                           ('cEAN', 'SEM GTIN'),\n",
       "                           ('xProd',\n",
       "                            'COPO DESCARTAVEL 180ML (25X100UN) BRANCO COPOBRAS'),\n",
       "                           ('NCM', '39241000'),\n",
       "                           ('CEST', '1100900'),\n",
       "                           ('indEscala', 'S'),\n",
       "                           ('CFOP', '5405'),\n",
       "                           ('uCom', 'CX'),\n",
       "                           ('qCom', '2.0000'),\n",
       "                           ('vUnCom', '60.9900000000'),\n",
       "                           ('vProd', '121.98'),\n",
       "                           ('cEANTrib', 'SEM GTIN'),\n",
       "                           ('uTrib', 'CX'),\n",
       "                           ('qTrib', '2.0000'),\n",
       "                           ('vUnTrib', '60.9900000000'),\n",
       "                           ('indTot', '1'),\n",
       "                           ('xPed', '5196'),\n",
       "                           ('nItemPed', '2')])),\n",
       "             ('imposto',\n",
       "              OrderedDict([('ICMS',\n",
       "                            OrderedDict([('ICMS60',\n",
       "                                          OrderedDict([('orig', '0'),\n",
       "                                                       ('CST', '60')]))])),\n",
       "                           ('IPI',\n",
       "                            OrderedDict([('cEnq', '999'),\n",
       "                                         ('IPITrib',\n",
       "                                          OrderedDict([('CST', '99'),\n",
       "                                                       ('vBC', '0.00'),\n",
       "                                                       ('pIPI', '0.0000'),\n",
       "                                                       ('vIPI', '0.00')]))])),\n",
       "                           ('PIS',\n",
       "                            OrderedDict([('PISNT',\n",
       "                                          OrderedDict([('CST', '09')]))])),\n",
       "                           ('COFINS',\n",
       "                            OrderedDict([('COFINSNT',\n",
       "                                          OrderedDict([('CST', '09')]))]))]))])"
      ]
     },
     "execution_count": 38,
     "metadata": {},
     "output_type": "execute_result"
    }
   ],
   "source": [
    "doc['nfeProc']['NFe']['infNFe']['det'][1]"
   ]
  },
  {
   "cell_type": "code",
   "execution_count": 32,
   "metadata": {},
   "outputs": [
    {
     "data": {
      "text/plain": [
       "'0'"
      ]
     },
     "execution_count": 32,
     "metadata": {},
     "output_type": "execute_result"
    }
   ],
   "source": [
    "doc['nfeProc']['NFe']['infNFe']['det'][1]['imposto']['ICMS']['ICMS60']['orig']"
   ]
  }
 ],
 "metadata": {
  "kernelspec": {
   "display_name": "Python 3",
   "language": "python",
   "name": "python3"
  },
  "language_info": {
   "codemirror_mode": {
    "name": "ipython",
    "version": 3
   },
   "file_extension": ".py",
   "mimetype": "text/x-python",
   "name": "python",
   "nbconvert_exporter": "python",
   "pygments_lexer": "ipython3",
   "version": "3.7.3"
  }
 },
 "nbformat": 4,
 "nbformat_minor": 2
}
